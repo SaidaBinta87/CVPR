{
  "nbformat": 4,
  "nbformat_minor": 0,
  "metadata": {
    "colab": {
      "provenance": []
    },
    "kernelspec": {
      "name": "python3",
      "display_name": "Python 3"
    },
    "language_info": {
      "name": "python"
    }
  },
  "cells": [
    {
      "cell_type": "markdown",
      "source": [
        "**A three layer neural network**"
      ],
      "metadata": {
        "id": "AMCzk4qSBvcb"
      }
    },
    {
      "cell_type": "code",
      "execution_count": 1,
      "metadata": {
        "id": "Aa7C7-mH-Yy0"
      },
      "outputs": [],
      "source": [
        "import numpy as np\n",
        "import matplotlib.pyplot as plt\n",
        "\n",
        "np.random.seed(0)\n",
        "\n",
        "X = np.array([ [0,0], [0,1], [1,0], [1,1] ])\n",
        "Y = np.array([ [0], [1], [1], [0] ])"
      ]
    },
    {
      "cell_type": "code",
      "source": [
        "class NeuralNetwork(object):\n",
        "    def __init__(self):\n",
        "        inputLayerNeurons = 2\n",
        "        hiddenLayerNeurons1 = 10  # First hidden layer\n",
        "        hiddenLayerNeurons2 = 10  # Second hidden layer\n",
        "        outLayerNeurons = 1\n",
        "\n",
        "        self.learning_rate = 0.2\n",
        "        self.W_H1I = np.random.randn(inputLayerNeurons, hiddenLayerNeurons1)\n",
        "        self.W_H2H1 = np.random.randn(hiddenLayerNeurons1, hiddenLayerNeurons2)\n",
        "        self.W_OH2 = np.random.randn(hiddenLayerNeurons2, outLayerNeurons)\n",
        "\n",
        "    def sigmoid(self, x, der=False):\n",
        "        if der == True:\n",
        "            return x * (1 - x)\n",
        "        else:\n",
        "            return 1 / (1 + np.exp(-x))\n",
        "\n",
        "    def feedForward(self, X):\n",
        "        hidden1_input = np.dot(X, self.W_H1I)\n",
        "        self.hidden1_output = self.sigmoid(hidden1_input)\n",
        "\n",
        "        hidden2_input = np.dot(self.hidden1_output, self.W_H2H1)\n",
        "        self.hidden2_output = self.sigmoid(hidden2_input)\n",
        "\n",
        "        output_input = np.dot(self.hidden2_output, self.W_OH2)\n",
        "        pred = self.sigmoid(output_input)\n",
        "        return pred\n",
        "\n",
        "    def backPropagation(self, X, Y, pred):\n",
        "        output_error = Y - pred\n",
        "        output_delta = self.learning_rate * output_error * self.sigmoid(pred, der=True)\n",
        "\n",
        "        hidden2_error = output_delta.dot(self.W_OH2.T)\n",
        "        hidden2_delta = self.learning_rate * hidden2_error * self.sigmoid(self.hidden2_output, der=True)\n",
        "\n",
        "        hidden1_error = hidden2_delta.dot(self.W_H2H1.T)\n",
        "        hidden1_delta = self.learning_rate * hidden1_error * self.sigmoid(self.hidden1_output, der=True)\n",
        "\n",
        "        self.W_H1I += X.T.dot(hidden1_delta)\n",
        "        self.W_H2H1 += self.hidden1_output.T.dot(hidden2_delta)\n",
        "        self.W_OH2 += self.hidden2_output.T.dot(output_delta)\n",
        "\n",
        "    def train(self, X, Y):\n",
        "        output = self.feedForward(X)\n",
        "        self.backPropagation(X, Y, output)\n"
      ],
      "metadata": {
        "id": "z6R-7agaAZAY"
      },
      "execution_count": 12,
      "outputs": []
    },
    {
      "cell_type": "code",
      "source": [
        "NN = NeuralNetwork()\n",
        "\n",
        "err = []\n",
        "for i in range(10000):\n",
        "    NN.train(X, Y)\n",
        "    err.append(np.mean(np.square(Y - NN.feedForward(X))))\n",
        "\n",
        "plt.plot(err)\n",
        "plt.show()"
      ],
      "metadata": {
        "colab": {
          "base_uri": "https://localhost:8080/",
          "height": 430
        },
        "id": "L31rdJkQA59t",
        "outputId": "5dcc22da-4384-4360-d80c-94289848713c"
      },
      "execution_count": 22,
      "outputs": [
        {
          "output_type": "display_data",
          "data": {
            "text/plain": [
              "<Figure size 640x480 with 1 Axes>"
            ],
            "image/png": "[encoded data removed]"
          },
          "metadata": {}
        }
      ]
    },
    {
      "cell_type": "code",
      "source": [
        "print(NN.feedForward([0,0]))"
      ],
      "metadata": {
        "colab": {
          "base_uri": "https://localhost:8080/"
        },
        "id": "nQ7ezgbzBa1t",
        "outputId": "68bdb005-62ff-42aa-bc82-6cf259870fb5"
      },
      "execution_count": 17,
      "outputs": [
        {
          "output_type": "stream",
          "name": "stdout",
          "text": [
            "[0.03870739]\n"
          ]
        }
      ]
    },
    {
      "cell_type": "code",
      "source": [
        "print(NN.feedForward([1,1]))"
      ],
      "metadata": {
        "colab": {
          "base_uri": "https://localhost:8080/"
        },
        "id": "Dh0PR35rBjpS",
        "outputId": "86ebb186-dc18-41f4-96f9-c71ba096db50"
      },
      "execution_count": 23,
      "outputs": [
        {
          "output_type": "stream",
          "name": "stdout",
          "text": [
            "[0.03618865]\n"
          ]
        }
      ]
    },
    {
      "cell_type": "code",
      "source": [
        "print(NN.feedForward([1,0]))"
      ],
      "metadata": {
        "colab": {
          "base_uri": "https://localhost:8080/"
        },
        "id": "QPvQtFhiBlb6",
        "outputId": "dee7d041-329c-404d-be59-e7701dc0a36d"
      },
      "execution_count": 24,
      "outputs": [
        {
          "output_type": "stream",
          "name": "stdout",
          "text": [
            "[0.96606665]\n"
          ]
        }
      ]
    },
    {
      "cell_type": "code",
      "source": [
        "print(NN.feedForward([0,1]))"
      ],
      "metadata": {
        "colab": {
          "base_uri": "https://localhost:8080/"
        },
        "id": "zcx8Q4hIBpDz",
        "outputId": "75bb1dd2-d4be-49ee-b406-91dc63e638da"
      },
      "execution_count": 25,
      "outputs": [
        {
          "output_type": "stream",
          "name": "stdout",
          "text": [
            "[0.96377277]\n"
          ]
        }
      ]
    }
  ]
}